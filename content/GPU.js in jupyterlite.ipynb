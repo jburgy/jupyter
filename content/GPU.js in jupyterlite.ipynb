{
 "cells": [
  {
   "cell_type": "markdown",
   "metadata": {},
   "source": [
    "## `gpu.js` in `pyolite`\n",
    "\n",
    "Note: this was shamelessly lifted from [bollwyvl/GPU.js in jupyterlite.ipynb]https://gist.github.com/bollwyvl/29f0e8011fe58c7af0915583c8e7d45e\n",
    "\n",
    "`pyolite` runs inside a [WebWorker](https://developer.mozilla.org/en-US/docs/Web/API/Web_Workers_API). While some features don't work there, a lot of really cool ones do.\n",
    "\n",
    "- `importScripts` can load arbitrary scripts from The Internet, or the local machine\n",
    "- the browser's GPU is often accessible there, depending on the browser and settings\n",
    "\n",
    "Combining these two, we can explore [gpu.js](https://github.com/gpujs/gpu.js), a JS library for working with GPUs, with fallback to pure JS."
   ]
  },
  {
   "cell_type": "code",
   "execution_count": null,
   "metadata": {
    "trusted": true
   },
   "outputs": [],
   "source": [
    "# basically `window` or `self`\n",
    "import js\n",
    "# for managing types properly\n",
    "from pyodide.ffi import to_js\n",
    "# for the pretties\n",
    "from IPython.display import Markdown\n",
    "import numpy"
   ]
  },
  {
   "cell_type": "markdown",
   "metadata": {},
   "source": [
    "## `importScripts`\n",
    "\n",
    "`js.importScripts` blocks and just bangs things right onto the global scope."
   ]
  },
  {
   "cell_type": "code",
   "execution_count": 38,
   "metadata": {
    "trusted": true
   },
   "outputs": [],
   "source": [
    "js.importScripts('https://cdn.jsdelivr.net/npm/gpu.js@latest/dist/gpu-browser.js')"
   ]
  },
  {
   "cell_type": "markdown",
   "metadata": {},
   "source": [
    "## `GPU`\n",
    "\n",
    "We now have a `GPU` top-level object."
   ]
  },
  {
   "cell_type": "code",
   "execution_count": null,
   "metadata": {
    "trusted": true
   },
   "outputs": [],
   "source": [
    "GPU = js.GPU.GPU"
   ]
  },
  {
   "cell_type": "markdown",
   "metadata": {},
   "source": [
    "but what can it do?"
   ]
  },
  {
   "cell_type": "code",
   "execution_count": 40,
   "metadata": {
    "trusted": true
   },
   "outputs": [
    {
     "data": {
      "text/markdown": [
       "### My Browser's `GPU` capabilities\n",
       "> agent string `Mozilla/5.0 (X11; Linux x86_64) AppleWebKit/537.36 (KHTML, like Gecko) Chrome/103.0.5060.114 Safari/537.36`\n",
       "- [x] GPU is in-fact supported\n",
       "- [x] kernel maps are supported\n",
       "- [x] offscreen canvas is supported\n",
       "- [x] WebGL v1 is supported\n",
       "- [x] WebGL v2 is supported\n",
       "- [ ] headlessgl is supported\n",
       "- [ ] canvas is supported\n",
       "- [x] the platform supports HTMLImageArray's\n",
       "- [x] the system supports single precision float 32 values"
      ],
      "text/plain": [
       "<IPython.core.display.Markdown object>"
      ]
     },
     "execution_count": 40,
     "metadata": {},
     "output_type": "execute_result"
    }
   ],
   "source": [
    "def gpu_capabilities():\n",
    "    checks = {\n",
    "        \"isGPUSupported\": \"GPU is in-fact supported\",\n",
    "        \"isKernelMapSupported\": \"kernel maps are supported\",\n",
    "        \"isOffscreenCanvasSupported\": \"offscreen canvas is supported\",\n",
    "        \"isWebGLSupported\": \"WebGL v1 is supported\",\n",
    "        \"isWebGL2Supported\": \"WebGL v2 is supported\",\n",
    "        \"isHeadlessGLSupported\": \"headlessgl is supported\",\n",
    "        \"isCanvasSupported\": \"canvas is supported\",\n",
    "        \"isGPUHTMLImageArraySupported\": \"the platform supports HTMLImageArray's\",\n",
    "        \"isSinglePrecisionSupported\": \"the system supports single precision float 32 values\",\n",
    "    }\n",
    "    results = [\n",
    "        \"### My Browser's `GPU` capabilities\",\n",
    "        f\"> agent string `{js.navigator.userAgent}`\" \n",
    "    ]\n",
    "    for check, message in checks.items():\n",
    "        x = \"x\" if getattr(GPU, check) else \" \"\n",
    "        results += [f\"- [{x}] {message}\"]\n",
    "    return Markdown(\"\\n\".join(results))\n",
    "\n",
    "gpu_capabilities()"
   ]
  },
  {
   "cell_type": "markdown",
   "metadata": {},
   "source": [
    "## Making a `GPU` instance\n",
    "\n",
    "First, we need a `GPU`."
   ]
  },
  {
   "cell_type": "code",
   "execution_count": null,
   "metadata": {
    "trusted": true
   },
   "outputs": [],
   "source": [
    "gpu = GPU.new()"
   ]
  },
  {
   "cell_type": "markdown",
   "metadata": {},
   "source": [
    "## Making a Kernel\n",
    "\n",
    "Next, we need a _GPU kernel_ (not to be confused with a Jupyter(Lite) kernel!). "
   ]
  },
  {
   "cell_type": "markdown",
   "metadata": {},
   "source": [
    "### Defining the kernel function\n",
    "\n",
    "For starters, we'll just use good-ol `eval` to get a function, and hand that to the kernel. This will follow one of [`gpu.js`'s basic tests](https://github.com/gpujs/gpu.js/blob/develop/test/features/basic-math.js)."
   ]
  },
  {
   "cell_type": "code",
   "execution_count": 42,
   "metadata": {
    "trusted": true
   },
   "outputs": [
    {
     "data": {
      "text/plain": [
       "function kernelFn(a, b) {\n",
       "    let sum = 0;\n",
       "    sum += a[this.thread.y][0] * b[0][this.thread.x];\n",
       "    sum += a[this.thread.y][1] * b[1][this.thread.x];\n",
       "    sum += a[this.thread.y][2] * b[2][this.thread.x];\n",
       "    return sum;\n",
       "}"
      ]
     },
     "execution_count": 42,
     "metadata": {},
     "output_type": "execute_result"
    }
   ],
   "source": [
    "kernel_function = js.eval(\"\"\"function kernelFn(a, b) {\n",
    "    let sum = 0;\n",
    "    sum += a[this.thread.y][0] * b[0][this.thread.x];\n",
    "    sum += a[this.thread.y][1] * b[1][this.thread.x];\n",
    "    sum += a[this.thread.y][2] * b[2][this.thread.x];\n",
    "    return sum;\n",
    "}; kernelFn;\n",
    "\"\"\")\n",
    "kernel_function"
   ]
  },
  {
   "cell_type": "markdown",
   "metadata": {},
   "source": [
    "### Defiing the options\n",
    "\n",
    "Kernels take a number of options, but the required one is `output`, the shape of the output array. We condition the whole thing with `to_js`."
   ]
  },
  {
   "cell_type": "code",
   "execution_count": 43,
   "metadata": {
    "trusted": true
   },
   "outputs": [],
   "source": [
    "output = to_js([3, 3])"
   ]
  },
  {
   "cell_type": "markdown",
   "metadata": {},
   "source": [
    "### Instantiate the kernel"
   ]
  },
  {
   "cell_type": "code",
   "execution_count": 44,
   "metadata": {
    "trusted": true
   },
   "outputs": [],
   "source": [
    "kernel = gpu.createKernel(kernel_function).setOutput(output)"
   ]
  },
  {
   "cell_type": "markdown",
   "metadata": {},
   "source": [
    "## Using the kernel"
   ]
  },
  {
   "cell_type": "markdown",
   "metadata": {},
   "source": [
    "### Defining the inputs\n",
    "\n",
    "These _also_ need to be properly conditioned with `to_js`."
   ]
  },
  {
   "cell_type": "code",
   "execution_count": 45,
   "metadata": {
    "trusted": true
   },
   "outputs": [],
   "source": [
    "a = to_js([\n",
    "    [1, 2, 3],\n",
    "    [4, 5, 6],\n",
    "    [7, 8, 9]\n",
    "])\n",
    "b = to_js([\n",
    "    [1, 2, 3],\n",
    "    [4, 5, 6],\n",
    "    [7, 8, 9]\n",
    "])"
   ]
  },
  {
   "cell_type": "markdown",
   "metadata": {},
   "source": [
    "### Calling the kernel"
   ]
  },
  {
   "cell_type": "code",
   "execution_count": 46,
   "metadata": {
    "trusted": true
   },
   "outputs": [
    {
     "data": {
      "text/plain": [
       "30,36,42,66,81,96,102,126,150"
      ]
     },
     "execution_count": 46,
     "metadata": {},
     "output_type": "execute_result"
    }
   ],
   "source": [
    "res = kernel(a, b)\n",
    "res"
   ]
  },
  {
   "cell_type": "markdown",
   "metadata": {},
   "source": [
    "### Conditioning the output\n",
    "\n",
    "While it looks flat, there's actually some structure in there: it needs a little [conditioning](https://pyodide.org/en/stable/usage/type-conversions.html#using-javascript-typed-arrays-from-python) to be useful."
   ]
  },
  {
   "cell_type": "code",
   "execution_count": 47,
   "metadata": {
    "trusted": true
   },
   "outputs": [
    {
     "data": {
      "text/plain": [
       "array([[ 30.,  36.,  42.],\n",
       "       [ 66.,  81.,  96.],\n",
       "       [102., 126., 150.]], dtype=float32)"
      ]
     },
     "execution_count": 47,
     "metadata": {},
     "output_type": "execute_result"
    }
   ],
   "source": [
    "arr = numpy.asarray(res.to_py())\n",
    "arr"
   ]
  },
  {
   "cell_type": "markdown",
   "metadata": {},
   "source": [
    "## And that's \"it\"\n",
    "\n",
    "This is just a quick look at using `importScripts` and `GPU.js`. There's loads more to do:\n",
    "\n",
    "- avoid calling out to a CDN\n",
    "- benchmarking\n",
    "- packaging this up as something useful"
   ]
  }
 ],
 "metadata": {
  "kernelspec": {
   "display_name": "Python (Pyodide)",
   "language": "python",
   "name": "python"
  },
  "language_info": {
   "codemirror_mode": {
    "name": "python",
    "version": 3
   },
   "file_extension": ".py",
   "mimetype": "text/x-python",
   "name": "python",
   "nbconvert_exporter": "python",
   "pygments_lexer": "ipython3",
   "version": "3.8"
  }
 },
 "nbformat": 4,
 "nbformat_minor": 4
}
