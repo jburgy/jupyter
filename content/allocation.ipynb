{
  "cells": [
    {
      "cell_type": "code",
      "execution_count": null,
      "id": "ff648775-3d74-4669-8756-dd1a0dd1ff97",
      "metadata": {},
      "outputs": [],
      "source": [
        "import itertools as it\n",
        "\n",
        "import numpy as np\n",
        "import pandas as pd\n",
        "from scipy import optimize, sparse\n",
        "\n",
        "from linprog import resize, variable\n",
        "\n",
        "π = pd.read_csv(\"data/portfolio.csv\", index_col=0)\n",
        "M = len(π)\n",
        "N = 2  # start with 2 brokerage accounts"
      ]
    },
    {
      "cell_type": "markdown",
      "id": "edb8c50a-60b9-4fa8-871a-58954185e93b",
      "metadata": {},
      "source": [
        "# Margin minimization\n",
        "\n",
        "Let us use [Linear Programming](https://en.wikipedia.org/wiki/Linear_programming) to allocate a \n",
        "[long/short equity](https://en.wikipedia.org/wiki/Long/short_equity) portfolio $\\pi$ containing $M$\n",
        "stocks between $N$ accounts with different [margin terms](https://en.wikipedia.org/wiki/Margin_(finance)) \n",
        "so as to _minimize_ total margin.\n",
        "\n",
        "We introduce a vector $x$ of $M \\cdot N$ unknowns to represent how much of stock $s$ sits in account \n",
        "$a$ (in $\\$$).  Values of $x$ are naturally bounded by the total amount of stock we need to allocate.\n",
        "Say the portfolio holds $\\$100$ of stock $s$.  No account can hold less than $\\$0$ or more than $\\$100$.\n",
        "Similarly, if the portfolio is [_short_](https://en.wikipedia.org/wiki/Short_(finance)) $\\$80$ of $t$,\n",
        "the corresponding ($N$) entries of $x$ belong in the $[-80, 0]$\n",
        "[interval](https://en.wikipedia.org/wiki/Interval_(mathematics)).  $x$ is arranged in\n",
        "[**row-major order**](https://en.wikipedia.org/wiki/Row-_and_column-major_order), as is usual\n",
        "in [C](https://en.wikipedia.org/wiki/C_(programming_language)).  This means that $(s, a)$,\n",
        "stock $s$ in account $a$ sits in entry $k := s + M \\cdot a$.  This is precisely what\n",
        "[`np.ravel`](https://numpy.org/doc/stable/reference/generated/numpy.ravel.html) does.\n",
        "\n",
        "This representation has two immediate advantages:\n",
        "1. it precludes _boxes_ (allocating $\\$100$ as $\\$120 + \\$(20)$)\n",
        "1. it requires no _helpers_ (more on that later) for absolute values with stock granularity\n",
        "\n",
        "This choice of representation makes the first [constraint](https://en.wikipedia.org/wiki/Constraint_(mathematics))\n",
        "obvious: stock _allocations_ ($x$) must sum up to the entire portfolio.  This will introduce the\n",
        "first necessary bit of [Linear Algebra](https://en.wikipedia.org/wiki/Linear_algebra).  Although $x$\n",
        "is a (flat) vector, we can also think of it as a $N \\times M$ matrix $X$.  Adding up stocks in different\n",
        "accounts together amounts to $\\mathbb{1}^T X$.  The matrix which achieves the same operation on $x$ is\n",
        "a [horizontal concatenation](https://docs.scipy.org/doc/scipy/reference/generated/scipy.sparse.hstack.html) of\n",
        "[identity matrices](https://en.wikipedia.org/wiki/Identity_matrix).  We can use\n",
        "use a [Kronecker product](https://en.wikipedia.org/wiki/Kronecker_product) to define it.\n",
        "This description makes it clear that we are dealing with\n",
        "very [sparse](https://en.wikipedia.org/wiki/Sparse_matrix) matrices.  Fortunately, \n",
        "[SciPy](https://scipy.org/) has excellent [support](https://docs.scipy.org/doc/scipy/reference/sparse.html)\n",
        "for sparse matrices:"
      ]
    },
    {
      "cell_type": "code",
      "execution_count": null,
      "id": "bb2de318-ab11-47cb-a580-15a86aadd62a",
      "metadata": {},
      "outputs": [],
      "source": [
        "x = variable(\"x\", M * N)\n",
        "A_eq = sparse.kron(np.ones((1, N)), sparse.eye_array(M), format=\"csr\")\n",
        "b_eq = (π[\"Shares\"] * π[\"Price\"]).to_numpy()\n",
        "sign = np.sign(π[\"Shares\"]).to_numpy()"
      ]
    },
    {
      "cell_type": "markdown",
      "id": "c54c50e4-bac5-470c-ade9-a460d8377d78",
      "metadata": {},
      "source": [
        "A lot is happening in this snippet.  First of all, to keep this example short (at the expense\n",
        "of some complexity), we are _not_ using an [Algebraic Modeling Language](https://en.wikipedia.org/wiki/Algebraic_modeling_language)\n",
        "like [AMPL](https://en.wikipedia.org/wiki/AMPL) or [CVXPY](https://www.cvxpy.org/) but working\n",
        "directly in [Standard Form](https://en.wikipedia.org/wiki/Linear_programming#Standard_form) instead.\n",
        "We follow SciPy's [linprog](https://docs.scipy.org/doc/scipy/reference/generated/scipy.optimize.linprog.html)'s\n",
        "notation, namely:\n",
        "$$\\begin{eqnarray}\n",
        "\\min_x \\ & c^T x \\\\\n",
        "\\mbox{such that} \\ & A_{ub} x \\leq b_{ub},\\\\\n",
        "& A_{eq} x = b_{eq},\\\\\n",
        "& l \\leq x \\leq u ,\n",
        "\\end{eqnarray}$$\n",
        "\n",
        "As such, _equality_ constraints correspond to _rows_ in $A_{eq}$ and $b_{eq}$ and similarly for\n",
        "_inequality_ and $A_{ub}$ and $b_{ub}$.  Note also how we picked the\n",
        "[compressed sparse row](https://en.wikipedia.org/wiki/Sparse_matrix#Compressed_sparse_row_(CSR,_CRS_or_Yale_format))\n",
        "format for our sparse matrices.  This format allows fast matrix-vector multiplications which helps the\n",
        "solver (although SciPy translates between sparse formats seamlessly).  Finally, we expect these to be the only\n",
        "_equality_ constraints so produce a matrix directly.  For convenience, we will declare _inequality_ contraints\n",
        "incrementally.  We can do that by keeping intermediate steps in a python\n",
        "[`list`](https://docs.python.org/3/library/stdtypes.html#list) which we\n",
        "[stack \"vertically\"](https://docs.scipy.org/doc/scipy-1.16.2/reference/generated/scipy.sparse.vstack.html)\n",
        "at the end.  The `variable` helper implicitly keeps track of the increasing width of matrices that represent\n",
        "variables.  This means we need to pad \"narrower\" matrices to combine them with \"wider\" ones.  Fortunately,\n",
        "sparse matrices decouple their physical and logical sizes.  This makes it easy to\n",
        "[resize](https://docs.scipy.org/doc/scipy/reference/generated/scipy.sparse.csr_array.resize.html)\n",
        "them."
      ]
    },
    {
      "cell_type": "code",
      "execution_count": null,
      "id": "4ae32351-c050-47cc-b0c7-016483ff5139",
      "metadata": {},
      "outputs": [],
      "source": [
        "A_ub = []\n",
        "b_ub = []"
      ]
    },
    {
      "cell_type": "markdown",
      "id": "623e0695-5ce3-4f17-8979-653f02a15cf0",
      "metadata": {},
      "source": [
        "## Base rate\n",
        "\n",
        "Margin terms for stock portfolios often start with a simple base rate, between $5$ and $7.5\\%$ of \n",
        "Gross Market Value.  This maps easily to the $c^T x$ objective term in standard form.  To keep this\n",
        "example simple, we model a first account with a low (teaser?) base rate and several addons, whereas\n",
        "the second account charges a higher base but no addons."
      ]
    },
    {
      "cell_type": "code",
      "execution_count": null,
      "id": "ba42d625-a218-4cfc-bfdc-c6270d646e9e",
      "metadata": {},
      "outputs": [],
      "source": [
        "c = [0.05 * sign, 0.06 * sign]"
      ]
    },
    {
      "cell_type": "markdown",
      "id": "20224bed-f240-4608-a020-1c20858ac8b0",
      "metadata": {},
      "source": [
        "## Penalties and epigraphs\n",
        "\n",
        "### Liquidity\n",
        "\n",
        "Brokers often include _add-ons_ or _penalties_ to discourage illiquid portfolio.  The simplest form of\n",
        "penalties compare single stock holdings to external observables.  For example, a broker might not like single\n",
        "stock holdings larger then one day of [average traded volume](https://en.wikipedia.org/wiki/Volume_(finance)).\n",
        "They could simply forbid illiquid holdings but they typically prefer to charge an additional (sometimes\n",
        "punitive) fee on the portion of holdings in _excess_ of the threshold.  That excess can be handled a little\n",
        "like [slack variables](https://en.wikipedia.org/wiki/Slack_variable): by introducing extra variables with\n",
        "constraints that encode their semantics.  So, if $y$ represents \"holdings over one day of average volume\",\n",
        "the objective function become $c^T x + d^T y$ where $c$ coefficients are the product of a (broker-specific)\n",
        "base rate and the applicable stock price, while $d$ coefficients reflect the concentration fee.  $y$ is\n",
        "subject to $x - \\text{ADV} \\leq y$ or, equivalently, $x - y \\leq \\text{ADV}$ to fit in $A_{ub}$ and $b_{ub}$.\n",
        "As long as $d$ coefficients are _positive_, minimizing the problem will naturally _collapse_ $y$ to\n",
        "$\\max (x - \\text{ADV}, 0)$.  Such helpers are called [epigraphs](https://en.wikipedia.org/wiki/Epigraph_(mathematics))."
      ]
    },
    {
      "cell_type": "code",
      "execution_count": null,
      "id": "eb8d9764-ce49-4485-bb4b-fc3bf79a54c0",
      "metadata": {},
      "outputs": [],
      "source": [
        "y = variable(\"(|x0| - ADV)₊\", M)\n",
        "x0 = sparse.eye_array(M, x.shape[0]) @ x\n",
        "resize(x0, y)\n",
        "c.append(np.full(M, .2))\n",
        "A_ub.append(sparse.diags_array(sign) @ x0 - y)\n",
        "b_ub.append(π[\"Volume\"] * π[\"Price\"])"
      ]
    },
    {
      "cell_type": "markdown",
      "id": "65119e34-5618-4927-9da2-3b9a06abcc29",
      "metadata": {},
      "source": [
        "### Concentration\n",
        "\n",
        "The next type of penalty in terms of complexity compare single stock holdings to the overall portfolio.\n",
        "Unlike _liquidity_ penalties where the thresholds were external values, _concentration_ thresholds are\n",
        "a percentage of the account's gross, or net, market value.  Calculating account market values is complementary\n",
        "to adding stocks in different accounts together.  In matrix form, this is $X \\mathbb{1}$.  The matrix which\n",
        "achieves the same operation on $x$ is block-diagonal with $1 \\times N$ $\\mathbb{1}$ on its diagonal.  We\n",
        "can construct it as a [Kronecker product](https://en.wikipedia.org/wiki/Kronecker_product).  The constraints\n",
        "which define $y$ are also slightly different: all terms contain unknowns and must therefore appear on the\n",
        "left-hand side ($A_{ub}$) of the comparison ($x - \\alpha G \\leq y \\implies x - \\alpha G - y \\leq 0$).\n",
        "\n",
        "This introduces a new challenge: concentration penalties compare a vector of size $M$ and a _scalar_.\n",
        "Numpy hides this complexity because it [broadcasts](https://numpy.org/doc/stable/user/basics.broadcasting.html)\n",
        "implicitly.  The sparse matrices which represent linear variables and expressions require _explicit_\n",
        "broadcasting.  We will only handle the special case of an operation between an $m \\times n$ matrix\n",
        "and a $1 \\times n$ one (representing a scalar expression).  That operation requires multiplying the\n",
        "scalar by $\\mathbb{1}$ on the left-hand side."
      ]
    },
    {
      "cell_type": "code",
      "execution_count": null,
      "id": "69f48b02-6d3a-48d5-8c4d-a99544c3fea8",
      "metadata": {},
      "outputs": [],
      "source": [
        "gmv = sparse.kron(sparse.eye_array(N), sign[np.newaxis, :], format=\"csr\")\n",
        "broadcast = sparse.csr_array(np.ones((M, 1)) @ gmv[:1, :])\n",
        "\n",
        "y = variable(\"(|x0| - 5% G)₊\", M)\n",
        "resize(x0, broadcast, y)\n",
        "c.append(np.full(M, 0.1))\n",
        "A_ub.append(sparse.diags_array(sign) @ x0 - 0.05 * broadcast - y)\n",
        "b_ub.append(np.zeros(M))"
      ]
    },
    {
      "cell_type": "markdown",
      "id": "2d368553-f2a2-4d37-ac50-2f69e82a317a",
      "metadata": {},
      "source": [
        "### Sector\n",
        "\n",
        "Penalties up to now have single stock granularity.  This omits case where no single stock holding is particularly\n",
        "large but several _similar_ (i.e. [correlated](https://en.wikipedia.org/wiki/Correlation)) stocks make up a\n",
        "concerning fraction of the overall portfolio.  Prime brokers traditionally rely on simple proxies like industry \n",
        "or geography to capture these effects.  This implies we need a way to aggregate $x$ by some external label.  That\n",
        "aggregation, or grouping, can be achieved by a [grouping matrix](https://themosekblog.blogspot.com/2020/05/grouping-in-fusion.html)."
      ]
    },
    {
      "cell_type": "code",
      "execution_count": null,
      "id": "5fbe507e-6aa5-40f2-8d11-1c1753268224",
      "metadata": {},
      "outputs": [],
      "source": [
        "keys, inverse = np.unique(π[\"Sector\"], return_inverse=True)\n",
        "K = len(keys)\n",
        "sector_mv = sparse.csr_array((np.ones(shape=M), (inverse, np.arange(M, dtype=int))), shape=(K, M)) @ x0\n",
        "\n",
        "s = variable(\"|sector|\", K)\n",
        "c.append(np.full(K, 1e-6))  # ε so epigraph converges\n",
        "resize(sector_mv, s)\n",
        "# s = |t| ⇒ t - s ≤ 0 ∧ -t - s ≤ 0\n",
        "A_ub.append(sector_mv - s)\n",
        "A_ub.append(-sector_mv - s)\n",
        "b_ub.append(np.zeros(2 * K))\n",
        "\n",
        "y = variable(\"(|sector| - 20% G)₊\", K)\n",
        "broadcast = sparse.csr_array(np.ones((K, 1)) @ gmv[:1, :])\n",
        "\n",
        "resize(s, broadcast, y)\n",
        "c.append(np.full(K, 0.2))\n",
        "A_ub.append(s - 0.2 * broadcast - y)\n",
        "b_ub.append(np.zeros(K))"
      ]
    },
    {
      "cell_type": "markdown",
      "id": "d8903d1e-d8c3-4e90-a5db-2e9f84d40718",
      "metadata": {},
      "source": [
        "### Directionality\n",
        "\n",
        "Finally, brokers worry about extreme market events where [$\\beta$](https://en.wikipedia.org/wiki/Beta_(finance))\n",
        "dominates stock movements.  A crude way to manage this risk is to penalize _directional_ portfolios as measured\n",
        "by $N/G$ or, similarly, $S/L$.  Note the following relationships:\n",
        "$$\\begin{eqnarray}\n",
        "\\begin{bmatrix} G \\\\ S \\end{bmatrix} =\n",
        "\\begin{bmatrix} 1 & 1 \\\\ 1 & -1 \\end{bmatrix}\n",
        "\\begin{bmatrix} L \\\\ S \\end{bmatrix}\n",
        "\\end{eqnarray}$$\n",
        "Or, equivalently,\n",
        "$$\\begin{eqnarray}\n",
        "\\begin{bmatrix} L \\\\ S \\end{bmatrix} =\n",
        "\\frac{1}{2}\n",
        "\\begin{bmatrix} 1 & 1 \\\\ 1 & -1 \\end{bmatrix}\n",
        "\\begin{bmatrix} G \\\\ N \\end{bmatrix}\n",
        "\\end{eqnarray}$$\n",
        "Finally, we can also create labels based on the _sign_ of holdings (`np.sign(π[\"Shares\"]).map({1: \"Long\", -1: \"Short\"})`) and leverage `sumby`"
      ]
    },
    {
      "cell_type": "code",
      "execution_count": null,
      "id": "4a34de31-5f15-4148-951c-3f987d36232f",
      "metadata": {},
      "outputs": [],
      "source": [
        "resize(*A_ub)\n",
        "\n",
        "K = sum(variable.__defaults__[0].values())\n",
        "A_eq.resize((A_eq.shape[0], K))\n",
        "\n",
        "bounds = np.repeat([[0, np.inf]], K, axis=0)\n",
        "bounds[:N * M, 0] = np.tile(np.minimum(b_eq, 0), N)\n",
        "bounds[:N * M, 1] = np.tile(np.maximum(b_eq, 0), N)\n",
        "\n",
        "solution = optimize.linprog(\n",
        "    c=np.concatenate(c),\n",
        "    A_ub=sparse.vstack(A_ub, format=\"csr\"),\n",
        "    b_ub=np.concatenate(b_ub),\n",
        "    A_eq=A_eq,\n",
        "    b_eq=b_eq,\n",
        "    bounds=bounds,\n",
        ")\n",
        "assert solution.success\n",
        "π.loc[:, \"MV\"] = π[\"Shares\"] * π[\"Price\"]\n",
        "π.loc[:, \"Account 0\"] = solution.x[:M]\n",
        "π.loc[:, \"Account 1\"] = solution.x[M:2 * M]\n",
        "π"
      ]
    },
    {
      "cell_type": "markdown",
      "id": "f8514cc3-d4da-4e78-bb91-46e04bd273dd",
      "metadata": {},
      "source": [
        "`solution.fun` is the numerical value of the objective function, i.e. `solution.x.dot(c)`.\n",
        "This lets us attribute its contributions from the helper variables we introduced incrementally."
      ]
    },
    {
      "cell_type": "code",
      "execution_count": null,
      "id": "8ba45ee2-dea9-487e-87bd-6bd8657b9a13",
      "metadata": {},
      "outputs": [],
      "source": [
        "variables = variable.__defaults__[0]\n",
        "spans = dict(zip(variables, it.starmap(slice, it.pairwise(it.accumulate(variables.values(), initial=0)))))\n",
        "w = np.concatenate(c)\n",
        "pd.Series({\n",
        "    key: solution.x[span].dot(w[span])\n",
        "    for key, span in spans.items()\n",
        "})"
      ]
    },
    {
      "cell_type": "markdown",
      "id": "6fe75ee0-d545-42f7-aff8-bad6042b5be7",
      "metadata": {},
      "source": [
        "We can re-derive those intermediate results from $x$ to verify our constraints captured the proper semantics"
      ]
    },
    {
      "cell_type": "code",
      "execution_count": null,
      "id": "416e7f4b-aafa-47c5-9736-1dfe79642a91",
      "metadata": {},
      "outputs": [],
      "source": [
        "pd.Series({\n",
        "    \"x\": 0.05 * π[\"Account 0\"].abs().sum() + 0.06 * π[\"Account 1\"].abs().sum(),\n",
        "    \"|x0| - ADV)₊\": 0.2 * np.maximum(π[\"Account 0\"].abs() - π[\"Volume\"] * π[\"Price\"], 0).sum(),\n",
        "    \"(|x0| - 5% G)₊\": 0.1 * np.maximum(π[\"Account 0\"].abs() - 0.05 * π[\"Account 0\"].abs().sum(), 0).sum(),\n",
        "    \"(|sector| - 20% G)₊\": 0.2 * np.maximum(π.groupby(\"Sector\")[\"Account 0\"].sum().abs() - 0.2 * π[\"Account 0\"].abs().sum(), 0).sum(),\n",
        "})"
      ]
    },
    {
      "cell_type": "code",
      "execution_count": null,
      "id": "c0acded0-62f6-4bd9-9a44-def5e98a7c0d",
      "metadata": {},
      "outputs": [],
      "source": [
        "π.groupby(\"Sector\")[[\"Account 0\"]].sum().abs().assign(Epigraph=solution.x[spans[\"|sector|\"]])"
      ]
    }
  ],
  "metadata": {
    "kernelspec": {
      "display_name": "Python (Pyodide)",
      "language": "python",
      "name": "python"
    },
    "language_info": {
      "codemirror_mode": {
        "name": "python",
        "version": 3
      },
      "file_extension": ".py",
      "mimetype": "text/x-python",
      "name": "python",
      "nbconvert_exporter": "python",
      "pygments_lexer": "ipython3",
      "version": "3.8"
    }
  },
  "nbformat": 4,
  "nbformat_minor": 5
}
