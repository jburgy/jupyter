{
  "metadata": {
    "kernelspec": {
      "name": "python",
      "display_name": "Python (Pyodide)",
      "language": "python"
    },
    "language_info": {
      "codemirror_mode": {
        "name": "python",
        "version": 3
      },
      "file_extension": ".py",
      "mimetype": "text/x-python",
      "name": "python",
      "nbconvert_exporter": "python",
      "pygments_lexer": "ipython3",
      "version": "3.8"
    }
  },
  "nbformat_minor": 5,
  "nbformat": 4,
  "cells": [
    {
      "id": "ff648775-3d74-4669-8756-dd1a0dd1ff97",
      "cell_type": "code",
      "source": "import itertools as it\n\nimport numpy as np\nimport pandas as pd\nfrom scipy import optimize, sparse\n\nfrom linprog import resize, variable\n\nπ = pd.read_csv(\"data/portfolio.csv\", index_col=0)\nM = len(π)\nN = 2  # start with 2 brokerage accounts",
      "metadata": {},
      "outputs": [],
      "execution_count": null
    },
    {
      "id": "edb8c50a-60b9-4fa8-871a-58954185e93b",
      "cell_type": "markdown",
      "source": "# Margin minimization\n\nLet us use [Linear Programming](https://en.wikipedia.org/wiki/Linear_programming) to allocate a \n[long/short equity](https://en.wikipedia.org/wiki/Long/short_equity) portfolio $\\pi$ containing $M$\nstocks between $N$ accounts with different [margin terms](https://en.wikipedia.org/wiki/Margin_(finance)) \nso as to _minimize_ total margin.\n\nWe introduce a vector $x$ of $M \\cdot N$ unknowns to represent how much of stock $s$ sits in account \n$a$ (in $\\$$).  Values of $x$ are naturally bounded by the total amount of stock we need to allocate.\nSay the portfolio holds $\\$100$ of stock $s$.  No account can hold less than $\\$0$ or more than $\\$100$.\nSimilarly, if the portfolio is [_short_](https://en.wikipedia.org/wiki/Short_(finance)) $\\$80$ of $t$,\nthe corresponding ($N$) entries of $x$ belong in the $[-80, 0]$\n[interval](https://en.wikipedia.org/wiki/Interval_(mathematics)).  $x$ is arranged in\n[**row-major order**](https://en.wikipedia.org/wiki/Row-_and_column-major_order), as is usual\nin [C](https://en.wikipedia.org/wiki/C_(programming_language)).  This means that $(s, a)$,\nstock $s$ in account $a$\nsits in entry $k := s + M \\cdot a$.\n\nThis representation has two immediate advantages:\n1. it makes it trivial to \n\nThis choice of representation makes the first [constraint](https://en.wikipedia.org/wiki/Constraint_(mathematics))\nobvious: stock _allocations_ ($x$) must sum up to the entire portfolio.  This will introduce the\nfirst necessary bit of [Linear Algebra](https://en.wikipedia.org/wiki/Linear_algebra).  Although $x$\nis a (flat) vector, we can also think of it as a $N \\times M$ matrix $X$.  Adding up stocks in different\naccounts together amounts to $\\mathbb{1}^T X$.  The matrix which achieves the same operation on $x$ is\na [horizontal concatenation](https://docs.scipy.org/doc/scipy/reference/generated/scipy.sparse.hstack.html) of\n[diagonal matrices](https://en.wikipedia.org/wiki/Diagonal_matrix).  We can use\nuse a [Kronecker product](https://en.wikipedia.org/wiki/Kronecker_product) to define it.\nThis description makes it clear that we are dealing with\nvery [sparse](https://en.wikipedia.org/wiki/Sparse_matrix) matrices.  Fortunately, \n[SciPy](https://scipy.org/) has excellent [support](https://docs.scipy.org/doc/scipy/reference/sparse.html)\nfor sparse matrices:",
      "metadata": {}
    },
    {
      "id": "bb2de318-ab11-47cb-a580-15a86aadd62a",
      "cell_type": "code",
      "source": "x = variable(\"x\", M * N)\nA_eq = sparse.kron(np.ones((1, N)), sparse.eye_array(M), format=\"csr\")\nb_eq = (π[\"Shares\"] * π[\"Price\"]).to_numpy()\nsign = np.sign(π[\"Shares\"]).to_numpy()",
      "metadata": {},
      "outputs": [],
      "execution_count": null
    },
    {
      "id": "c54c50e4-bac5-470c-ade9-a460d8377d78",
      "cell_type": "markdown",
      "source": "There is a lot happening in this snippet.  First of all, to keep this example short (at the expense\nof some complexity), we are _not_ using an [Algebraic Modeling Language](https://en.wikipedia.org/wiki/Algebraic_modeling_language)\nlike [AMPL](https://en.wikipedia.org/wiki/AMPL) or [CVXPY](https://www.cvxpy.org/) but working\ndirectly in [Standard Form](https://en.wikipedia.org/wiki/Linear_programming#Standard_form) instead.\nWe follow SciPy's [linprog](https://docs.scipy.org/doc/scipy/reference/generated/scipy.optimize.linprog.html)'s\nnotation, namely:\n$$\\begin{eqnarray}\n\\min_x \\ & c^T x \\\\\n\\mbox{such that} \\ & A_{ub} x \\leq b_{ub},\\\\\n& A_{eq} x = b_{eq},\\\\\n& l \\leq x \\leq u ,\n\\end{eqnarray}$$\n\nAs such, _equality_ constraints correspond to _rows_ in $A_{eq}$ and $b_{eq}$ and similarly for\n_inequality_ and $A_{ub}$ and $b_{ub}$.  Note also how we picked the\n[compressed sparse row](https://en.wikipedia.org/wiki/Sparse_matrix#Compressed_sparse_row_(CSR,_CRS_or_Yale_format))\nformat for our sparse matrices.  This format allows fast matrix-vector multiplications which helps the\nsolver (although SciPy translates between sparse formats seamlessly).  Finally, we expect these to be the only\n_equality_ constraints so produce a matrix directly.  For convenience, we will declare _inequality_ contraints\nincrementally.  We can do that by keeping intermediate steps in a python\n[`list`](https://docs.python.org/3/library/stdtypes.html#list) which we\n[stack \"vertically\"](https://docs.scipy.org/doc/scipy-1.16.2/reference/generated/scipy.sparse.vstack.html)\nat the end.",
      "metadata": {}
    },
    {
      "id": "4ae32351-c050-47cc-b0c7-016483ff5139",
      "cell_type": "code",
      "source": "A_ub = []\nb_ub = []",
      "metadata": {},
      "outputs": [],
      "execution_count": null
    },
    {
      "id": "623e0695-5ce3-4f17-8979-653f02a15cf0",
      "cell_type": "markdown",
      "source": "## Base rate\n\nMargin terms for stock portfolios often start with a simple base rate, between $5$ and $7.5\\%$ of \nGross Market Value.  This maps easily to the $c^T x$ objective term in standard form.  To keep this\nexample simple, we model a first account with a low (teaser?) base rate and several addons, whereas\nthe second account charges a higher base but no addons.",
      "metadata": {}
    },
    {
      "id": "ba42d625-a218-4cfc-bfdc-c6270d646e9e",
      "cell_type": "code",
      "source": "c = [0.05 * sign, 0.06 * sign]",
      "metadata": {},
      "outputs": [],
      "execution_count": null
    },
    {
      "id": "20224bed-f240-4608-a020-1c20858ac8b0",
      "cell_type": "markdown",
      "source": "## Penalties and epigraphs\n\n### Liquidity\n\nBrokers often include _add-ons_ or _penalties_ to discourage illiquid portfolio.  The simplest form of\npenalties compare single stock holdings to external observables.  For example, a broker might not like single\nstock holdings larger then one day of [average traded volume](https://en.wikipedia.org/wiki/Volume_(finance)).\nThey could simply forbid illiquid holdings but they typically prefer to charge an additional (sometimes\npunitive) fee on the portion of holdings in _excess_ of the threshold.  That excess can be handled a little\nlike [slack variables](https://en.wikipedia.org/wiki/Slack_variable): by introducing extra variables with\nconstraints that encode their semantics.  So, if $y$ represents \"holdings over one day of average volume\",\nthe objective function become $c^T x + d^T y$ where $c$ coefficients are the product of a (broker-specific)\nbase rate and the applicable stock price, while $d$ coefficients reflect the concentration fee.  $y$ is\nsubject to $x - \\text{ADV} \\leq y$ or, equivalently, $x - y \\leq \\text{ADV}$ to fit in $A_{ub}$ and $b_{ub}$.\nAs long as $d$ coefficients are _positive_, minimizing the problem will naturally _collapse_ $y$ to\n$\\max (x - \\text{ADV}, 0)$.  Such helpers are called [epigraphs](https://en.wikipedia.org/wiki/Epigraph_(mathematics)).",
      "metadata": {}
    },
    {
      "id": "eb8d9764-ce49-4485-bb4b-fc3bf79a54c0",
      "cell_type": "code",
      "source": "y = variable(\"(|x0| - ADV)₊\", M)\nx0 = x[:M, :]\nresize(x0, y)\nc.append(np.full(M, .2))\nA_ub.append(sparse.diags_array(sign) @ x0 - y)\nb_ub.append(π[\"Volume\"] * π[\"Price\"])",
      "metadata": {},
      "outputs": [],
      "execution_count": null
    },
    {
      "id": "65119e34-5618-4927-9da2-3b9a06abcc29",
      "cell_type": "markdown",
      "source": "### Concentration\n\nThe next type of penalty in terms of complexity compare single stock holdings to the overall portfolio.\nUnlike _liquidity_ penalties where the thresholds were external values, _concentration_ thresholds are\na percentage of the account's gross, or net, market value.  Calculating account market values is complementary\nto adding stocks in different accounts together.  In matrix form, this is $X \\mathbb{1}$.  The matrix which\nachieves the same operation on $x$ is block-diagonal with $1 \\times N$ $\\mathbb{1}$ on its diagonal.  We\ncan construct it as a [Kronecker product](https://en.wikipedia.org/wiki/Kronecker_product).  The constraints\nwhich define $y$ are also slightly different: all terms contain unknowns and must therefore appear on the\nleft-hand side ($A_{ub}$) of the comparison ($x - \\alpha G \\leq y \\implies x - \\alpha G - y \\leq 0$).\n\nThis introduces a new challenge: concentration penalties compare a vector of size $M$ and a _scalar_.\nNumpy hides this complexity because it [broadcasts](https://numpy.org/doc/stable/user/basics.broadcasting.html)\nimplicitly.  The sparse matrices which represent linear variables and expressions require _explicit_\nbroadcasting.  We will only handle the special case of an operation between an $m \\times n$ matrix\nand a $1 \\times n$ one (representing a scalar expression).  That operation requires multiplying the\nscalar by $\\mathbb{1}$ on the left-hand side.",
      "metadata": {}
    },
    {
      "id": "69f48b02-6d3a-48d5-8c4d-a99544c3fea8",
      "cell_type": "code",
      "source": "gmv = sparse.kron(sparse.eye_array(N), sign[np.newaxis, :], format=\"csr\")\nbroadcast = sparse.csr_array(np.ones((M, 1)) @ gmv[:1, :])\n\ny = variable(\"(|x0| - 5% G)₊\", M)\nresize(x0, broadcast, y)\nc.append(np.full(M, 0.1))\nA_ub.append(sparse.diags_array(sign) @ x0 - 0.05 * broadcast - y)\nb_ub.append(np.zeros(M))",
      "metadata": {},
      "outputs": [],
      "execution_count": null
    },
    {
      "id": "2d368553-f2a2-4d37-ac50-2f69e82a317a",
      "cell_type": "markdown",
      "source": "### Sector\n\nPenalties up to now have single stock granularity.  This omits case where no single stock holding is particularly\nlarge but several _similar_ (i.e. [correlated](https://en.wikipedia.org/wiki/Correlation)) stocks make up a\nconcerning fraction of the overall portfolio.  Prime brokers traditionally rely on simple proxies like industry \nor geograph to capture these effects.  This implies we need a way to aggregate $x$ by some external label.  That\naggregation, or grouping, can be achieved by a [grouping matrix](https://themosekblog.blogspot.com/2020/05/grouping-in-fusion.html).",
      "metadata": {}
    },
    {
      "id": "5fbe507e-6aa5-40f2-8d11-1c1753268224",
      "cell_type": "code",
      "source": "keys, inverse = np.unique(π[\"Sector\"], return_inverse=True)\nK = len(keys)\nsector_mv = sparse.csr_array((np.ones(shape=M), (inverse, np.arange(M, dtype=int))), shape=(K, M)) @ x0\n\ns = variable(\"|sector|\", K)\nc.append(np.full(K, 1e-6))  # ε so epigraph converges\nresize(sector_mv, s)\n# s = |t| ⇒ t - s ≤ 0 ∧ -t - s ≤ 0\nA_ub.append(sector_mv - s)\nA_ub.append(-sector_mv - s)\nb_ub.append(np.zeros(2 * K))\n\ny = variable(\"(|sector| - 20% G)₊\", K)\nbroadcast = sparse.csr_array(np.ones((K, 1)) @ gmv[:1, :])\n\nresize(s, broadcast, y)\nc.append(np.full(K, 0.2))\nA_ub.append(s - 0.2 * broadcast - y)\nb_ub.append(np.zeros(K))",
      "metadata": {},
      "outputs": [],
      "execution_count": null
    },
    {
      "id": "d8903d1e-d8c3-4e90-a5db-2e9f84d40718",
      "cell_type": "markdown",
      "source": "### Directionality\n\nFinally, brokers worry about extreme market events where [$\\beta$](https://en.wikipedia.org/wiki/Beta_(finance))\ndominates stock movements.  A crude way to manage this risk is to penalize _directional_ portfolios as measured\nby $N/G$ or, similarly, $S/L$.  Note the following relationships:\n$$\\begin{eqnarray}\n\\begin{bmatrix} G \\\\ S \\end{bmatrix} =\n\\begin{bmatrix} 1 & 1 \\\\ 1 & -1 \\end{bmatrix}\n\\begin{bmatrix} L \\\\ S \\end{bmatrix}\n\\end{eqnarray}$$\nOr, equivalently,\n$$\\begin{eqnarray}\n\\begin{bmatrix} L \\\\ S \\end{bmatrix} =\n\\frac{1}{2}\n\\begin{bmatrix} 1 & 1 \\\\ 1 & -1 \\end{bmatrix}\n\\begin{bmatrix} G \\\\ N \\end{bmatrix}\n\\end{eqnarray}$$\nFinally, we can also create labels based on the _sign_ of holdings (`np.sign(π[\"Shares\"]).map({1: \"Long\", -1: \"Short\"})`) and leverage `sumby`",
      "metadata": {}
    },
    {
      "id": "4a34de31-5f15-4148-951c-3f987d36232f",
      "cell_type": "code",
      "source": "resize(*A_ub)\n\nK = sum(variable.__defaults__[0].values())\nA_eq.resize((A_eq.shape[0], K))\n\nbounds = np.repeat([[0, np.inf]], K, axis=0)\nbounds[:N * M, 0] = np.tile(np.minimum(b_eq, 0), N)\nbounds[:N * M, 1] = np.tile(np.maximum(b_eq, 0), N)\n\nsolution = optimize.linprog(\n    c=np.concatenate(c),\n    A_ub=sparse.vstack(A_ub, format=\"csr\"),\n    b_ub=np.concatenate(b_ub),\n    A_eq=A_eq,\n    b_eq=b_eq,\n    bounds=bounds,\n)\nassert solution.success\nπ.loc[:, \"MV\"] = π[\"Shares\"] * π[\"Price\"]\nπ.loc[:, \"Account 0\"] = solution.x[:M]\nπ.loc[:, \"Account 1\"] = solution.x[M:2 * M]\nπ",
      "metadata": {},
      "outputs": [],
      "execution_count": null
    },
    {
      "id": "f8514cc3-d4da-4e78-bb91-46e04bd273dd",
      "cell_type": "markdown",
      "source": "`solution.fun` is the numerical value of the objective function, i.e. `solution.x.dot(c)`.\nThis lets us attribute its contributions from the helper variables we introduced incrementally.",
      "metadata": {}
    },
    {
      "id": "8ba45ee2-dea9-487e-87bd-6bd8657b9a13",
      "cell_type": "code",
      "source": "variables = variable.__defaults__[0]\nspans = dict(zip(variables, it.starmap(slice, it.pairwise(it.accumulate(variables.values(), initial=0)))))\nw = np.concatenate(c)\npd.Series({\n    key: solution.x[span].dot(w[span])\n    for key, span in spans.items()\n})",
      "metadata": {},
      "outputs": [],
      "execution_count": null
    },
    {
      "id": "6fe75ee0-d545-42f7-aff8-bad6042b5be7",
      "cell_type": "markdown",
      "source": "We can re-derive those intermediate results from $x$ to verify our constraints captured the proper semantics",
      "metadata": {}
    },
    {
      "id": "416e7f4b-aafa-47c5-9736-1dfe79642a91",
      "cell_type": "code",
      "source": "pd.Series({\n    \"x\": 0.05 * π[\"Account 0\"].abs().sum() + 0.06 * π[\"Account 1\"].abs().sum(),\n    \"|x0| - ADV)₊\": 0.2 * np.maximum(π[\"Account 0\"].abs() - π[\"Volume\"] * π[\"Price\"], 0).sum(),\n    \"(|x0| - 5% G)₊\": 0.1 * np.maximum(π[\"Account 0\"].abs() - 0.05 * π[\"Account 0\"].abs().sum(), 0).sum(),\n    \"(|sector| - 20% G)₊\": 0.2 * np.maximum(π.groupby(\"Sector\")[\"Account 0\"].sum().abs() - 0.2 * π[\"Account 0\"].abs().sum(), 0).sum(),\n})",
      "metadata": {},
      "outputs": [],
      "execution_count": null
    },
    {
      "id": "c0acded0-62f6-4bd9-9a44-def5e98a7c0d",
      "cell_type": "code",
      "source": "π.groupby(\"Sector\")[[\"Account 0\"]].sum().abs().assign(Epigraph=solution.x[spans[\"|sector|\"]])",
      "metadata": {},
      "outputs": [],
      "execution_count": null
    }
  ]
}