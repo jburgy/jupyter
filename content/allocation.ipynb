{
  "metadata": {
    "kernelspec": {
      "name": "python",
      "display_name": "Python (Pyodide)",
      "language": "python"
    },
    "language_info": {
      "codemirror_mode": {
        "name": "python",
        "version": 3
      },
      "file_extension": ".py",
      "mimetype": "text/x-python",
      "name": "python",
      "nbconvert_exporter": "python",
      "pygments_lexer": "ipython3",
      "version": "3.8"
    }
  },
  "nbformat_minor": 5,
  "nbformat": 4,
  "cells": [
    {
      "id": "ff648775-3d74-4669-8756-dd1a0dd1ff97",
      "cell_type": "code",
      "source": "import numpy as np\nimport pandas as pd\nfrom numpy import typing as npt\nfrom scipy import optimize, sparse\n\nfrom linprog import resize, variable\n\nπ = pd.read_csv(\"data/portfolio.csv\", index_col=0)\nM = len(π)\nN = 2  # start with 2 brokerage accounts",
      "metadata": {
        "trusted": true
      },
      "outputs": [],
      "execution_count": null
    },
    {
      "id": "edb8c50a-60b9-4fa8-871a-58954185e93b",
      "cell_type": "markdown",
      "source": "# Margin minimization\n\nLet us use [Linear Programming](https://en.wikipedia.org/wiki/Linear_programming) to allocate a \n[long/short equity](https://en.wikipedia.org/wiki/Long/short_equity) portfolio $\\pi$ containing $M$\nstocks between $N$ accounts with different [margin terms](https://en.wikipedia.org/wiki/Margin_(finance)) \nso as to _minimize_ total margin.\n\nWe introduce a _non-negative_ vector $x$ of unknowns of size $M \\cdot N$ to represent how much of stock\n$s$ sits in account $a$ (in $\\$$).  This vector is arranged in the usual\n[**row-major order**](https://en.wikipedia.org/wiki/Row-_and_column-major_order) convention from\nthe [C](https://en.wikipedia.org/wiki/C_(programming_language)) programming language.  This means that \n$(s, a)$ sits in entry $k := s + M \\cdot a$.  _Non-negative_ variables offer many advantages in LP but\nthat choice introduces the first disconnect between our notation and the real world.  Expressions which\ndepend on the _net_ (or _signed_) value will require multiplication by the $\\text{sign}$ of stock $s$\nin $\\pi$.\n\nOur choice of representation makes the first [constraint](https://en.wikipedia.org/wiki/Constraint_(mathematics))\nobvious: stock _allocations_ ($x$) must sum up to the entire portfolio.  This will introduce the\nfirst necessary bit of [Linear Algebra](https://en.wikipedia.org/wiki/Linear_algebra).  Although $x$\nis a (flat) vector, we can also think of it as a $N \\times M$ matrix $X$.  Adding up stocks in different\naccounts together amounts to $\\mathbb{1}^T X$.  The matrix which achieves the same operation on $x$ is\na [horizontal concatenation](https://docs.scipy.org/doc/scipy/reference/generated/scipy.sparse.hstack.html) of\n[diagonal matrices](https://en.wikipedia.org/wiki/Diagonal_matrix). \nThis description makes it clear that we are dealing with\nvery [sparse](https://en.wikipedia.org/wiki/Sparse_matrix) matrices.  Fortunately, \n[SciPy](https://scipy.org/) has excellent [support](https://docs.scipy.org/doc/scipy/reference/sparse.html)\nfor sparse matrices:",
      "metadata": {}
    },
    {
      "id": "bb2de318-ab11-47cb-a580-15a86aadd62a",
      "cell_type": "code",
      "source": "x = variable(\"x\", M * N)\nA_eq = sparse.hstack([sparse.eye_array(M, format=\"csr\")] * N)\nb_eq = abs(π[\"Shares\"] * π[\"Price\"])",
      "metadata": {
        "trusted": true
      },
      "outputs": [],
      "execution_count": null
    },
    {
      "id": "c54c50e4-bac5-470c-ade9-a460d8377d78",
      "cell_type": "markdown",
      "source": "There is a lot happening in this snippet.  First of all, to keep this example short (at the expense\nof some complexity), we are _not_ using an [Algebraic Modeling Language](https://en.wikipedia.org/wiki/Algebraic_modeling_language)\nlike [AMPL](https://en.wikipedia.org/wiki/AMPL) or [CVXPY](https://www.cvxpy.org/) but working\ndirectly in [Standard Form](https://en.wikipedia.org/wiki/Linear_programming#Standard_form) instead.\nWe follow SciPy's [linprog](https://docs.scipy.org/doc/scipy/reference/generated/scipy.optimize.linprog.html)'s\nnotation, namely:\n$$\\begin{eqnarray}\n\\min_x \\ & c^T x \\\\\n\\mbox{such that} \\ & A_{ub} x \\leq b_{ub},\\\\\n& A_{eq} x = b_{eq},\\\\\n& l \\leq x \\leq u ,\n\\end{eqnarray}$$\n\nAs such, _equality_ constraints correspond to _rows_ in $A_{eq}$ and $b_{eq}$ and similarly for\n_inequality_ and $A_{ub}$ and $b_{ub}$.  Note also how we picked the\n[compressed sparse row](https://en.wikipedia.org/wiki/Sparse_matrix#Compressed_sparse_row_(CSR,_CRS_or_Yale_format))\nformat for our sparse matrices.  This format allows fast matrix-vector multiplications which helps the\nsolver (although SciPy translates between sparse formats seamlessly).  Finally, we expect these to be the only\n_equality_ constraints so produce a matrix directly.  For convenience, we will declare _inequality_ contraints\nincrementally.  We can do that by keeping intermediate steps in a python\n[`list`](https://docs.python.org/3/library/stdtypes.html#list) which we\n[stack \"vertically\"](https://docs.scipy.org/doc/scipy-1.16.2/reference/generated/scipy.sparse.vstack.html)\nat the end.",
      "metadata": {}
    },
    {
      "id": "4ae32351-c050-47cc-b0c7-016483ff5139",
      "cell_type": "code",
      "source": "A_ub = []\nb_ub = []",
      "metadata": {
        "trusted": true
      },
      "outputs": [],
      "execution_count": null
    },
    {
      "id": "623e0695-5ce3-4f17-8979-653f02a15cf0",
      "cell_type": "markdown",
      "source": "## Base rate\n\nMargin terms for stock portfolios often start with a simple base rate, between $5$ and $7.5\\%$ of \nGross Market Value.  This maps easily to the $c^T x$ objective term in standard form.  ",
      "metadata": {}
    },
    {
      "id": "ba42d625-a218-4cfc-bfdc-c6270d646e9e",
      "cell_type": "code",
      "source": "c = [np.full(M, .05), np.full(M, .1)]",
      "metadata": {
        "trusted": true
      },
      "outputs": [],
      "execution_count": null
    },
    {
      "id": "20224bed-f240-4608-a020-1c20858ac8b0",
      "cell_type": "markdown",
      "source": "## Penalties and epigraphs\n\n### Liquidity\n\nBrokers often include _add-ons_ or _penalties_ to discourage illiquid portfolio.  The simplest form of\npenalties compare single stock holdings to external observables.  For example, a broker might not like single\nstock holdings larger then one day of [average traded volume](https://en.wikipedia.org/wiki/Volume_(finance)).\nThey could simply forbid illiquid holdings but they typically prefer to charge an additional (sometimes\npunitive) fee on the portion of holdings in _excess_ of the threshold.  That excess can be handled a little\nlike [slack variables](https://en.wikipedia.org/wiki/Slack_variable): by introducing extra variables with\nconstraints that encode their semantics.  So, if $y$ represents \"holdings over one day of average volume\",\nthe objective function become $c^T x + d^T y$ where $c$ coefficients are the product of a (broker-specific)\nbase rate and the applicable stock price, while $d$ coefficients reflect the concentration fee.  $y$ is\nsubject to $x - \\text{ADV} \\leq y$ or, equivalently, $x - y \\leq \\text{ADV}$ to fit in $A_{ub}$ and $b_{ub}$.\nAs long as $d$ coefficients are _positive_, minimizing the problem will naturally _collapse_ $y$ to\n$\\max (x - \\text{ADV}, 0)$.  Such helpers are called [epigraphs](https://en.wikipedia.org/wiki/Epigraph_(mathematics)).",
      "metadata": {}
    },
    {
      "id": "8284a28d-6fce-4eba-b95f-379806b4ed9d",
      "cell_type": "code",
      "source": "y = variable(\"(x0 - ADV)₊\", M)\nx0 = x[:M, :]\nresize(x0, y)\nc.append(np.full(M, .2))\nA_ub.append(x0 - y)\nb_ub.append(π[\"Volume\"] * π[\"Price\"])",
      "metadata": {
        "trusted": true
      },
      "outputs": [],
      "execution_count": null
    },
    {
      "id": "65119e34-5618-4927-9da2-3b9a06abcc29",
      "cell_type": "markdown",
      "source": "### Concentration\n\nThe next type of penalty in terms of complexity compare single stock holdings to the overall portfolio.\nUnlike _liquidity_ penalties where the thresholds were external values, _concentration_ thresholds are\na percentage of the account's gross, or net, market value.  Calculating account market values is complementary\nto adding stocks in different accounts together.  In matrix form, this is $X \\mathbb{1}$.  The matrix which\nachieves the same operation on $x$ is block-diagonal with $1 \\times N$ $\\mathbb{1}$ on its diagonal.  We\ncan construct it as a [Kronecker product](https://en.wikipedia.org/wiki/Kronecker_product).  The constraints\nwhich define $y$ are also slightly different: all terms contain unknowns and must therefore appear on the\nleft-hand side ($A_{ub}$) of the comparison ($x - \\alpha G \\leq y \\implies x - \\alpha G - y \\leq 0$).\n\nThis introduces a new challenge: concentration penalties compare a vector of size $M$ and a _scalar_.\nNumpy hides this complexity because it [broadcasts](https://numpy.org/doc/stable/user/basics.broadcasting.html)\nimplicitly.  The sparse matrices which represent linear variables and expressions require _explicit_\nbroadcasting.  We will only handle the special case of an operation between an $m \\times n$ matrix\nand a $1 \\times n$ one (representing a scalar expression).  That operation requires multiplying the\nscalar by $\\mathbb{1}$ on the left-hand side.",
      "metadata": {}
    },
    {
      "id": "0cc749b8-eebb-4e1e-909d-e9eaf2eb1e50",
      "cell_type": "code",
      "source": "nmv = sparse.kron(sparse.eye_array(N), np.ones((1, len(π))), format=\"csr\")\ngmv = sparse.kron(sparse.eye_array(N), np.sign(π[\"Shares\"]).to_numpy(dtype=float)[np.newaxis, :], format=\"csr\")\n\nbroadcast = sparse.csr_array(np.ones((M, 1)) @ gmv[:1, :])\n\ny = variable(\"(x0 - 5% G)₊\", M)\nresize(x0, broadcast, y)\nc.append(np.full(M, 0.1))\nA_ub.append(x0 - 0.05 * broadcast - y)\nb_ub.append(np.zeros(M))",
      "metadata": {
        "trusted": true
      },
      "outputs": [],
      "execution_count": null
    },
    {
      "id": "2d368553-f2a2-4d37-ac50-2f69e82a317a",
      "cell_type": "markdown",
      "source": "### Sector\n\nPenalties up to now have single stock granularity.  This omits case where no single stock holding is particularly\nlarge but several _similar_ (i.e. [correlated](https://en.wikipedia.org/wiki/Correlation)) stocks make up a\nconcerning fraction of the overall portfolio.  Prime brokers traditionally rely on simple proxies like industry \nor geograph to capture these effects.  This implies we need a way to aggregate $x$ by some external label.  That\naggregation, or grouping, can be achieved by a [grouping matrix](https://themosekblog.blogspot.com/2020/05/grouping-in-fusion.html).",
      "metadata": {}
    },
    {
      "id": "f2d61fbf-9d8f-4548-9b1a-8fc8efd6f44e",
      "cell_type": "code",
      "source": "keys, inverse = np.unique(π[\"Sector\"], return_inverse=True)\nK = len(keys)\nsector_mv = sparse.csr_array((np.ones(shape=M), (inverse, np.arange(M, dtype=int))), shape=(K, M)) @ x0\nbroadcast = sparse.csr_array(np.ones((K, 1)) @ gmv[:1, :])\n\ny = variable(\"(sector - 10% G)₊\", K)\nresize(sector_mv, broadcast, y)\nc.append(np.full(K, .2))\nA_ub.append(sector_mv - 0.1 * broadcast - y)\nb_ub.append(np.zeros(K)) ",
      "metadata": {
        "trusted": true
      },
      "outputs": [],
      "execution_count": null
    },
    {
      "id": "d8903d1e-d8c3-4e90-a5db-2e9f84d40718",
      "cell_type": "markdown",
      "source": "### Directionality\n\nFinally, brokers worry about extreme market events where [$\\beta$](https://en.wikipedia.org/wiki/Beta_(finance))\ndominates stock movements.  A crude way to manage this risk is to penalize _directional_ portfolios as measured\nby $N/G$ or, similarly, $S/L$.  Note the following relationships:\n$$\\begin{eqnarray}\n\\begin{bmatrix} G \\\\ S \\end{bmatrix} =\n\\begin{bmatrix} 1 & 1 \\\\ 1 & -1 \\end{bmatrix}\n\\begin{bmatrix} L \\\\ S \\end{bmatrix}\n\\end{eqnarray}$$\nOr, equivalently,\n$$\\begin{eqnarray}\n\\begin{bmatrix} L \\\\ S \\end{bmatrix} =\n\\frac{1}{2}\n\\begin{bmatrix} 1 & 1 \\\\ 1 & -1 \\end{bmatrix}\n\\begin{bmatrix} G \\\\ N \\end{bmatrix}\n\\end{eqnarray}$$\nFinally, we can also create labels based on the _sign_ of holdings (`np.sign(π[\"Shares\"]).map({1: \"Long\", -1: \"Short\"})`) and leverage `sumby`",
      "metadata": {}
    },
    {
      "id": "4a34de31-5f15-4148-951c-3f987d36232f",
      "cell_type": "code",
      "source": "resize(*A_ub)\n\nK = sum(variable.__defaults__[0].values())\nA_eq.resize((A_eq.shape[0], K))\n\nsolution = optimize.linprog(\n    c=np.concatenate(c),\n    A_ub=sparse.vstack(A_ub, format=\"csr\"),\n    b_ub=np.concatenate(b_ub),\n    A_eq=A_eq,\n    b_eq=b_eq,\n)\nassert solution.success\nπ[\"MV\"] = π[\"Shares\"] * π[\"Price\"]\nπ[\"Account 0\"] = solution.x[:M]\nπ[\"Account 1\"] = solution.x[M:2 * M]\nπ",
      "metadata": {
        "trusted": true
      },
      "outputs": [],
      "execution_count": null
    }
  ]
}