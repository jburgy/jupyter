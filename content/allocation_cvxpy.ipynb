{
  "metadata": {
    "kernelspec": {
      "name": "python",
      "display_name": "Python (Pyodide)",
      "language": "python"
    },
    "language_info": {
      "codemirror_mode": {
        "name": "python",
        "version": 3
      },
      "file_extension": ".py",
      "mimetype": "text/x-python",
      "name": "python",
      "nbconvert_exporter": "python",
      "pygments_lexer": "ipython3",
      "version": "3.8"
    }
  },
  "nbformat_minor": 5,
  "nbformat": 4,
  "cells": [
    {
      "id": "1514f198-378d-423a-a332-2dd8c88d68db",
      "cell_type": "markdown",
      "source": "# Margin Minimization (CVXPY edition)\n\nRefer to `allocation.ipynb` to follow along.",
      "metadata": {}
    },
    {
      "id": "bcca3541-729b-40d5-a6f7-c78df786e5a5",
      "cell_type": "code",
      "source": "import cvxpy as cp\nimport numpy as np\nimport pandas as pd\nfrom scipy import sparse\n\nπ = pd.read_csv(\"data/portfolio.csv\", index_col=0)\nM = len(π)\n\nmv = (π[\"Shares\"] * π[\"Price\"]).to_numpy()\nbounds = [np.minimum(mv, 0), np.maximum(mv, 0)]\nsign = np.sign(π[\"Shares\"]).to_numpy()\nkeys, inverse = np.unique(π[\"Sector\"], return_inverse=True)\nK = len(keys)\nsectors = sparse.csr_array((np.ones(M), (inverse, np.arange(M, dtype=int))), shape=(K, M))",
      "metadata": {
        "trusted": true
      },
      "outputs": [],
      "execution_count": null
    },
    {
      "id": "15c459df-506c-4ccf-829c-7586af338bcf",
      "cell_type": "code",
      "source": "x0 = cp.Variable(shape=M, name=\"x₀\", bounds=bounds)\nx1 = cp.Variable(shape=M, name=\"x₁\", bounds=bounds)\nabs_x0 = cp.multiply(sign, x0)\ngmv = cp.sum(abs_x0)\n\nobjective = cp.Minimize(\n    0.05 * gmv\n    + 0.2 * cp.sum(cp.pos(abs_x0 - π[\"Volume\"] * π[\"Price\"]))\n    + 0.1 * cp.sum(cp.pos(abs_x0 - 0.05 * gmv))\n    + 0.2 * cp.sum(cp.pos(cp.abs(sectors @ x0) - 0.2 * gmv))\n    + 0.06 * cp.sum(cp.multiply(sign, x1))\n)\nconstraints = [x0 + x1 == mv]\n\nproblem = cp.Problem(objective, constraints)\ndata, chain, inverse_data = problem.get_problem_data(solver=cp.CLARABEL)\nsoln = chain.solve_via_data(problem, data)\nproblem.unpack_results(soln, chain, inverse_data)",
      "metadata": {
        "trusted": true
      },
      "outputs": [],
      "execution_count": null
    },
    {
      "id": "77d00a53-e572-4ba1-8dc0-ad54fce02f7c",
      "cell_type": "code",
      "source": "π.assign(**{\"Account 0\": x0.value, \"Account 1\": x1.value})",
      "metadata": {
        "trusted": true
      },
      "outputs": [],
      "execution_count": null
    },
    {
      "id": "bd8ece82-71b5-4e26-8c4d-939e474e346f",
      "cell_type": "code",
      "source": "def same(m: sparse.dia_array, n: sparse.dia_array):\n    m = m.todia()\n    return np.array_equal(m.offsets, n.offsets) and np.allclose(m.data, n.data)\n\n# x = [x₀, liquidity, concentration, sector, x₁, |x₀ by sector|]\n\nA = data[\"A\"]\none = sparse.eye_array(M)\nrows = slice(None, M)\nassert same(A[rows, :-(M+K)], one) and same(A[:M, -(M+K):], sparse.eye_array(M)), \"x₀ + x₁ == x\"\n\nrows = slice(M, 2 * M)\nassert same(A[rows, :], -one), \"x₀ ≥ x₋\"\n\nrows = slice(2 * M, 3 * M)\nassert same(A[rows, :], one), \"x₀ ≤ x₊\"\n\nrows = slice(3 * M, 4 * M)\nassert not A[rows, :-(M + K)].nnz and same(A[rows, -(M + K):], -one), \"x₁ ≥ x₋\"\n\nrows = slice(4 * M, 5 * M)\nassert not A[rows, :-(M + K)].nnz and same(A[rows, -(M + K):], one), \"x₁ ≤ x₊\"\n\nrows = slice(5 * M, 6 * M)\nassert same(A[rows, :M].todia(), sparse.diags_array(sign)) and same(A[rows, M:], -one),  \"x₀ - liquidity ≤ ADV\"\n\nrows = slice(6 * M, 7 * M)\nassert not A[rows, :M].nnz and same(A[rows, M:], -one),  \"liquidity ≥ 0\"\n\nrows = slice(7 * M, 8 * M)\nassert (\n    np.allclose(A[rows, :M].todense(), np.diag(sign) - 0.05 * sign[np.newaxis, :])\n    and not A[rows, M: 2 * M].nnz\n    and same(A[rows, 2 * M:], -one)\n), \"x₀ - 5% G - concentration ≤ 0\"\nassert same(A[8*M:9*M, 2*M:].todia(), -one),  \"concentration ≥ 0\"\n\none = sparse.eye_array(K)\nrows = slice(9 * M, 9 * M + K)\nassert (\n    np.allclose(A[rows, :M].todense(), sectors.todense())\n    and not A[rows, M:-K].nnz\n    and same(A[rows, -K:], -one)\n), \"x₀ by sector - |x₀ by sector| ≤ 0\"\n\nrows = slice(9 * M + K, 9 * M + 2 * K)\nassert (\n    np.allclose(A[rows, :M].todense(), -sectors.todense())\n    and not A[rows, M: -K].nnz\n    and same(A[rows, -K:], -one)\n), \"-x₀ by sectors - |x₀ by sector| ≤ 0\"\n\nrows = slice(9 * M + 2 * K, 9 * M + 3 * K)\nassert (\n    np.allclose(A[rows, :M].todense(), -0.2 * sign[np.newaxis, :])\n    and not A[rows, M: -(M + 2 * K)].nnz\n    and same(A[rows, -(M + 2 * K): -K], -one)\n    and same(A[rows, -K:], one)\n), \"-20% G - sector + |x₀ by sector| ≤ 0\"\n\nrows = slice(9 * M + 3 * K, None)\nassert not A[rows, :3 * M].nnz and same(A[rows, 3 * M:], -one), \"sector ≥ 0\"",
      "metadata": {
        "trusted": true
      },
      "outputs": [],
      "execution_count": null
    }
  ]
}