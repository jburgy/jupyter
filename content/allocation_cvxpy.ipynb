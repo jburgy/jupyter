{
  "cells": [
    {
      "cell_type": "markdown",
      "id": "1514f198-378d-423a-a332-2dd8c88d68db",
      "metadata": {},
      "source": [
        "# Margin Minimization (CVXPY edition)\n",
        "\n",
        "Refer to `allocation.ipynb` to follow along."
      ]
    },
    {
      "cell_type": "code",
      "execution_count": null,
      "id": "bcca3541-729b-40d5-a6f7-c78df786e5a5",
      "metadata": {
        "trusted": true
      },
      "outputs": [],
      "source": [
        "import cvxpy as cp\n",
        "import numpy as np\n",
        "import pandas as pd\n",
        "from scipy import sparse\n",
        "\n",
        "π = pd.read_csv(\"data/portfolio.csv\", index_col=0)\n",
        "M = len(π)\n",
        "\n",
        "mv = (π[\"Shares\"] * π[\"Price\"]).to_numpy()\n",
        "bounds = [np.minimum(mv, 0), np.maximum(mv, 0)]\n",
        "sign = np.sign(π[\"Shares\"]).to_numpy()\n",
        "keys, inverse = np.unique(π[\"Sector\"], return_inverse=True)\n",
        "K = len(keys)\n",
        "sectors = sparse.csr_array((np.ones(M), (inverse, np.arange(M, dtype=int))), shape=(K, M))"
      ]
    },
    {
      "cell_type": "code",
      "execution_count": null,
      "id": "15c459df-506c-4ccf-829c-7586af338bcf",
      "metadata": {
        "trusted": true
      },
      "outputs": [],
      "source": [
        "x0 = cp.Variable(shape=M, name=\"x₀\", bounds=bounds)\n",
        "x1 = cp.Variable(shape=M, name=\"x₁\", bounds=bounds)\n",
        "abs_x0 = cp.multiply(sign, x0)\n",
        "gmv = cp.sum(abs_x0)\n",
        "\n",
        "objective = cp.Minimize(\n",
        "    0.05 * gmv\n",
        "    + 0.2 * cp.sum(cp.pos(abs_x0 - π[\"Volume\"] * π[\"Price\"]))\n",
        "    + 0.1 * cp.sum(cp.pos(abs_x0 - 0.05 * gmv))\n",
        "    + 0.2 * cp.sum(cp.pos(cp.abs(sectors @ x0) - 0.2 * gmv))\n",
        "    + 0.06 * cp.sum(cp.multiply(sign, x1))\n",
        ")\n",
        "constraints = [x0 + x1 == mv]\n",
        "\n",
        "problem = cp.Problem(objective, constraints)\n",
        "data, chain, inverse_data = problem.get_problem_data(solver=cp.CLARABEL)\n",
        "soln = chain.solve_via_data(problem, data)\n",
        "problem.unpack_results(soln, chain, inverse_data)\n",
        "\n",
        "π.assign(**{\"Account 0\": x0.value, \"Account 1\": x1.value})"
      ]
    },
    {
      "cell_type": "markdown",
      "id": "c361687d",
      "metadata": {},
      "source": [
        "Now confirm that [CVXPY](https://www.cvxpy.org/) generated the constraints we expect:"
      ]
    },
    {
      "cell_type": "code",
      "execution_count": null,
      "id": "bd8ece82-71b5-4e26-8c4d-939e474e346f",
      "metadata": {
        "trusted": true
      },
      "outputs": [],
      "source": [
        "def same(m: sparse.dia_array, n: sparse.dia_array):\n",
        "    m = m.todia()\n",
        "    return np.array_equal(m.offsets, n.offsets) and np.allclose(m.data, n.data)\n",
        "\n",
        "# x = [x₀, liquidity, concentration, sector, x₁, |x₀ by sector|]\n",
        "\n",
        "A = data[\"A\"]\n",
        "one = sparse.eye_array(M)\n",
        "rows = slice(None, M)\n",
        "assert same(A[rows, :-(M+K)], one) and same(A[:M, -(M+K):], sparse.eye_array(M)), \"x₀ + x₁ == x\"\n",
        "\n",
        "rows = slice(M, 2 * M)\n",
        "assert same(A[rows, :], -one), \"x₀ ≥ x₋\"\n",
        "\n",
        "rows = slice(2 * M, 3 * M)\n",
        "assert same(A[rows, :], one), \"x₀ ≤ x₊\"\n",
        "\n",
        "rows = slice(3 * M, 4 * M)\n",
        "assert not A[rows, :-(M + K)].nnz and same(A[rows, -(M + K):], -one), \"x₁ ≥ x₋\"\n",
        "\n",
        "rows = slice(4 * M, 5 * M)\n",
        "assert not A[rows, :-(M + K)].nnz and same(A[rows, -(M + K):], one), \"x₁ ≤ x₊\"\n",
        "\n",
        "rows = slice(5 * M, 6 * M)\n",
        "assert same(A[rows, :M], sparse.diags_array(sign)) and same(A[rows, M:], -one),  \"x₀ - liquidity ≤ ADV\"\n",
        "\n",
        "rows = slice(6 * M, 7 * M)\n",
        "assert not A[rows, :M].nnz and same(A[rows, M:], -one),  \"liquidity ≥ 0\"\n",
        "\n",
        "rows = slice(7 * M, 8 * M)\n",
        "assert (\n",
        "    np.allclose(A[rows, :M].todense(), np.diag(sign) - 0.05 * sign[np.newaxis, :])\n",
        "    and not A[rows, M: 2 * M].nnz\n",
        "    and same(A[rows, 2 * M:], -one)\n",
        "), \"x₀ - 5% G - concentration ≤ 0\"\n",
        "\n",
        "rows = slice(8 * M, 9 * M)\n",
        "assert not A[rows, : 2 * M].nnz and same(A[rows, 2 * M:], -one),  \"concentration ≥ 0\"\n",
        "\n",
        "one = sparse.eye_array(K)\n",
        "rows = slice(9 * M, 9 * M + K)\n",
        "assert (\n",
        "    np.allclose(A[rows, :M].todense(), sectors.todense())\n",
        "    and not A[rows, M: -K].nnz\n",
        "    and same(A[rows, -K:], -one)\n",
        "), \"x₀ by sector - |x₀ by sector| ≤ 0\"\n",
        "\n",
        "rows = slice(9 * M + K, 9 * M + 2 * K)\n",
        "assert (\n",
        "    np.allclose(A[rows, :M].todense(), -sectors.todense())\n",
        "    and not A[rows, M: -K].nnz\n",
        "    and same(A[rows, -K:], -one)\n",
        "), \"-x₀ by sectors - |x₀ by sector| ≤ 0\"\n",
        "\n",
        "rows = slice(9 * M + 2 * K, 9 * M + 3 * K)\n",
        "assert (\n",
        "    np.allclose(A[rows, :M].todense(), -0.2 * sign[np.newaxis, :])\n",
        "    and not A[rows, M: -(M + 2 * K)].nnz\n",
        "    and same(A[rows, -(M + 2 * K): -K], -one)\n",
        "    and same(A[rows, -K:], one)\n",
        "), \"-20% G - sector + |x₀ by sector| ≤ 0\"\n",
        "\n",
        "rows = slice(9 * M + 3 * K, None)\n",
        "assert not A[rows, :3 * M].nnz and same(A[rows, 3 * M:], -one), \"sector ≥ 0\""
      ]
    }
  ],
  "metadata": {
    "kernelspec": {
      "display_name": "Python (Pyodide)",
      "language": "python",
      "name": "python"
    },
    "language_info": {
      "codemirror_mode": {
        "name": "python",
        "version": 3
      },
      "file_extension": ".py",
      "mimetype": "text/x-python",
      "name": "python",
      "nbconvert_exporter": "python",
      "pygments_lexer": "ipython3",
      "version": "3.8"
    }
  },
  "nbformat": 4,
  "nbformat_minor": 5
}
