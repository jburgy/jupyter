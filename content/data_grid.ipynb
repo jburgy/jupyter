{
  "cells": [
    {
      "cell_type": "code",
      "execution_count": null,
      "id": "27168fda-2345-4553-8530-54e59759ea19",
      "metadata": {
        "trusted": true
      },
      "outputs": [],
      "source": [
        "%pip install anywidget"
      ]
    },
    {
      "cell_type": "code",
      "execution_count": null,
      "id": "01d27a48-5220-4c39-9bb1-b79011ece35c",
      "metadata": {
        "trusted": true
      },
      "outputs": [],
      "source": [
        "import pandas as pd\n",
        "from pyodide.http import pyfetch\n",
        "\n",
        "response = await pyfetch(\"https://data.cityofnewyork.us/resource/uvbq-3m68.json\")\n",
        "df = pd.json_normalize(await response.json())\n",
        "cols = df.columns\n",
        "\n",
        "df.melt(\n",
        "    id_vars=cols[~cols.str.endswith(\"_amount\")],\n",
        "    value_vars=cols[cols.str.endswith(\"_amount\")],\n",
        "    var_name=\"amount_type\",\n",
        ").assign(\n",
        "    amount_type=lambda df: df[\"amount_type\"].str.replace(\"_amount$\", \"\", regex=False),\n",
        ")"
      ]
    },
    {
      "cell_type": "code",
      "execution_count": null,
      "id": "8546b037-19c9-40d1-858d-1010f5a60331",
      "metadata": {
        "trusted": true
      },
      "outputs": [],
      "source": [
        "from anywidget import AnyWidget\n",
        "from traitlets import Unicode, List\n",
        "\n",
        "\n",
        "class DataGridWidget(AnyWidget):\n",
        "    _esm = \"https://ogoz.jburgy.workers.dev/data-grid/widget.mjs\"\n",
        "    _css = \"\"\n",
        "    table = Unicode().tag(sync=True)\n",
        "    db = Unicode().tag(sync=True)\n",
        "    source = Unicode().tag(sync=True)\n",
        "    unused_axis = List(Unicode()).tag(sync=True)\n",
        "    col_axis = List(Unicode()).tag(sync=True)\n",
        "    row_axis = List(Unicode()).tag(sync=True)\n",
        "\n",
        "    def __init__(self, table: str, db: str, source: str = \"\"):\n",
        "        super().__init__()\n",
        "        self.table = table\n",
        "        self.db = db\n",
        "        self.source = source"
      ]
    },
    {
      "cell_type": "code",
      "execution_count": null,
      "id": "31de094d-2fe6-47c7-9dc9-df3eb572fb96",
      "metadata": {
        "trusted": true
      },
      "outputs": [],
      "source": [
        "DataGridWidget(table=\"violations\", db=\"example\")"
      ]
    }
  ],
  "metadata": {
    "kernelspec": {
      "display_name": "Python (Pyodide)",
      "language": "python",
      "name": "python"
    },
    "language_info": {
      "codemirror_mode": {
        "name": "python",
        "version": 3
      },
      "file_extension": ".py",
      "mimetype": "text/x-python",
      "name": "python",
      "nbconvert_exporter": "python",
      "pygments_lexer": "ipython3",
      "version": "3.8"
    }
  },
  "nbformat": 4,
  "nbformat_minor": 5
}
